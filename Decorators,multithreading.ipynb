{
  "nbformat": 4,
  "nbformat_minor": 0,
  "metadata": {
    "colab": {
      "provenance": []
    },
    "kernelspec": {
      "name": "python3",
      "display_name": "Python 3"
    },
    "language_info": {
      "name": "python"
    }
  },
  "cells": [
    {
      "cell_type": "markdown",
      "source": [
        "1.Create any multithreaded code using for loop for creating multithreads\n",
        "\n",
        "for i in range(10):\n",
        "    th = Thread(target=func_name, args=(i, ))\n",
        "    \n",
        "2.print total active threads in multithreaded code using threading.active_count()\n"
      ],
      "metadata": {
        "id": "xXteUsHg-vC8"
      }
    },
    {
      "cell_type": "code",
      "source": [
        "import time\n",
        "import threading\n",
        "from threading import Thread\n",
        "\n",
        "def sleepMe(i):\n",
        "  print(\"Thread %i will sleep.\" %i)\n",
        "  time.sleep(5)\n",
        "  print(\"THread %i is awake \" %i)\n",
        "for i in range (10):\n",
        "    th=Thread (target =sleepMe, args=(i,))\n",
        "    th.start()\n",
        "    print(\"current Threads: %i\"% threading.active_count())"
      ],
      "metadata": {
        "colab": {
          "base_uri": "https://localhost:8080/"
        },
        "id": "XiVowUZo-3h8",
        "outputId": "4fd7a3dd-bdf1-4126-a8de-db86057f1019"
      },
      "execution_count": null,
      "outputs": [
        {
          "output_type": "stream",
          "name": "stdout",
          "text": [
            "Thread 0 will sleep.\n",
            "current Threads: 6\n",
            "Thread 1 will sleep.\n",
            "current Threads: 7\n",
            "Thread 2 will sleep.current Threads: 8\n",
            "Thread 3 will sleep.\n",
            "current Threads: 9\n",
            "Thread 4 will sleep.current Threads: 10\n",
            "\n",
            "Thread 5 will sleep.current Threads: 11\n",
            "\n",
            "Thread 6 will sleep.current Threads: 12\n",
            "\n",
            "Thread 7 will sleep.current Threads: 13\n",
            "\n",
            "Thread 8 will sleep.current Threads: 14\n",
            "\n",
            "\n",
            "Thread 9 will sleep.current Threads: 15\n",
            "\n"
          ]
        }
      ]
    },
    {
      "cell_type": "code",
      "source": [
        "def check(f):\n",
        "  def helper(x):\n",
        "    if type(x) == int and x>0:\n",
        "      return f(x)\n",
        "    else: raise Exception(\"Invalid Argument\")\n",
        "  return helper"
      ],
      "metadata": {
        "id": "txXj2OaLIJ57"
      },
      "execution_count": 1,
      "outputs": []
    }
  ]
}