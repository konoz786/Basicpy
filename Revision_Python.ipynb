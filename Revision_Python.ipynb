{
  "nbformat": 4,
  "nbformat_minor": 0,
  "metadata": {
    "colab": {
      "provenance": []
    },
    "kernelspec": {
      "name": "python3",
      "display_name": "Python 3"
    },
    "language_info": {
      "name": "python"
    }
  },
  "cells": [
    {
      "cell_type": "code",
      "execution_count": 1,
      "metadata": {
        "colab": {
          "base_uri": "https://localhost:8080/"
        },
        "id": "VejWEIjyKTGg",
        "outputId": "3868fb8b-6c55-43df-f1c0-5077dd880bdf"
      },
      "outputs": [
        {
          "output_type": "stream",
          "name": "stdout",
          "text": [
            "<class 'str'> <class 'int'> <class 'float'> <class 'bool'>\n"
          ]
        }
      ],
      "source": [
        "#1. Variables & Data Types\n",
        "# Defining variables\n",
        "name = \"Tauhid\"\n",
        "age = 25\n",
        "height = 5.9\n",
        "is_student = True\n",
        "\n",
        "# Printing types\n",
        "print(type(name), type(age), type(height), type(is_student))\n"
      ]
    },
    {
      "cell_type": "code",
      "source": [
        "#2. User Input & Output\n",
        "name = input(\"Enter your name: \")\n",
        "age = int(input(\"Enter your age: \"))\n",
        "\n",
        "print(f\"Hello, {name}! You are {age} years old.\")\n"
      ],
      "metadata": {
        "colab": {
          "base_uri": "https://localhost:8080/"
        },
        "id": "DBeHgKnBK8Al",
        "outputId": "4d5eb632-1655-4ece-cae5-6b17c1f0d8d9"
      },
      "execution_count": 2,
      "outputs": [
        {
          "output_type": "stream",
          "name": "stdout",
          "text": [
            "Enter your name: konoz\n",
            "Enter your age: 24\n",
            "Hello, konoz! You are 24 years old.\n"
          ]
        }
      ]
    },
    {
      "cell_type": "code",
      "source": [
        "#3. Conditional Statements\n",
        "age = int(input(\"Enter your age: \"))\n",
        "\n",
        "if age >= 18:\n",
        "    print(\"You are an adult.\")\n",
        "elif age >= 13:\n",
        "    print(\"You are a teenager.\")\n",
        "else:\n",
        "    print(\"You are a child.\")\n"
      ],
      "metadata": {
        "colab": {
          "base_uri": "https://localhost:8080/"
        },
        "id": "Vi3NWC60MDMM",
        "outputId": "a4d1961e-9191-46a6-ca69-c1b44965b276"
      },
      "execution_count": 3,
      "outputs": [
        {
          "output_type": "stream",
          "name": "stdout",
          "text": [
            "Enter your age: 24\n",
            "You are an adult.\n"
          ]
        }
      ]
    },
    {
      "cell_type": "code",
      "source": [
        "#4. Loops\n",
        "# For loop example\n",
        "for i in range(1, 6):\n",
        "    print(f\"Number: {i}\")\n",
        "\n",
        "# While loop example\n",
        "count = 5\n",
        "while count > 0:\n",
        "    print(f\"Countdown: {count}\")\n",
        "    count -= 1\n"
      ],
      "metadata": {
        "colab": {
          "base_uri": "https://localhost:8080/"
        },
        "id": "g1QlpwVWMKLb",
        "outputId": "0425636d-427e-45db-8fd8-574d4b442d05"
      },
      "execution_count": 4,
      "outputs": [
        {
          "output_type": "stream",
          "name": "stdout",
          "text": [
            "Number: 1\n",
            "Number: 2\n",
            "Number: 3\n",
            "Number: 4\n",
            "Number: 5\n",
            "Countdown: 5\n",
            "Countdown: 4\n",
            "Countdown: 3\n",
            "Countdown: 2\n",
            "Countdown: 1\n"
          ]
        }
      ]
    },
    {
      "cell_type": "code",
      "source": [
        "#5. Functions\n",
        "def greet(name):\n",
        "    return f\"Hello, {name}!\"\n",
        "\n",
        "print(greet(\"Tauhid\"))\n"
      ],
      "metadata": {
        "colab": {
          "base_uri": "https://localhost:8080/"
        },
        "id": "MeMFZU_rMTPE",
        "outputId": "4d7c2f00-3e5f-46a1-f4f0-5a03f33c3c02"
      },
      "execution_count": 5,
      "outputs": [
        {
          "output_type": "stream",
          "name": "stdout",
          "text": [
            "Hello, Tauhid!\n"
          ]
        }
      ]
    },
    {
      "cell_type": "code",
      "source": [
        "#6. Lists & Dictionaries\n",
        "fruits = [\"Apple\", \"Banana\", \"Cherry\"]\n",
        "fruits.append(\"Mango\")\n",
        "\n",
        "person = {\"name\": \"Tauhid\", \"age\": 25, \"city\": \"Dhaka\"}\n",
        "\n",
        "print(fruits)\n",
        "print(person[\"name\"])\n"
      ],
      "metadata": {
        "colab": {
          "base_uri": "https://localhost:8080/"
        },
        "id": "8cjzoAXiM6ib",
        "outputId": "813b240a-cc71-4760-8973-f021dd9debfd"
      },
      "execution_count": 6,
      "outputs": [
        {
          "output_type": "stream",
          "name": "stdout",
          "text": [
            "['Apple', 'Banana', 'Cherry', 'Mango']\n",
            "Tauhid\n"
          ]
        }
      ]
    },
    {
      "cell_type": "code",
      "source": [
        "#7. File Handling\n",
        "# Writing to a file\n",
        "with open(\"sample.txt\", \"w\") as file:\n",
        "    file.write(\"Hello, World!\")\n",
        "\n",
        "# Reading from a file\n",
        "with open(\"sample.txt\", \"r\") as file:\n",
        "    content = file.read()\n",
        "    print(content)\n"
      ],
      "metadata": {
        "colab": {
          "base_uri": "https://localhost:8080/"
        },
        "id": "SOJBPEKYNovN",
        "outputId": "01ba6f82-8b24-4642-f57e-bd21974ed8f5"
      },
      "execution_count": 7,
      "outputs": [
        {
          "output_type": "stream",
          "name": "stdout",
          "text": [
            "Hello, World!\n"
          ]
        }
      ]
    },
    {
      "cell_type": "code",
      "source": [
        "#8. Classes & Objects\n",
        "class Person:\n",
        "    def __init__(self, name, age):\n",
        "        self.name = name\n",
        "        self.age = age\n",
        "\n",
        "    def introduce(self):\n",
        "        return f\"My name is {self.name} and I am {self.age} years old.\"\n",
        "\n",
        "p1 = Person(\"Tauhid\", 25)\n",
        "print(p1.introduce())\n",
        "\n"
      ],
      "metadata": {
        "colab": {
          "base_uri": "https://localhost:8080/"
        },
        "id": "VfhGxUbhOJJU",
        "outputId": "d3d10af2-e06c-448c-f113-ccfccebdd71a"
      },
      "execution_count": 8,
      "outputs": [
        {
          "output_type": "stream",
          "name": "stdout",
          "text": [
            "My name is Tauhid and I am 25 years old.\n"
          ]
        }
      ]
    }
  ]
}