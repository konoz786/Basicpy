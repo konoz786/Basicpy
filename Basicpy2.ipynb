{
  "nbformat": 4,
  "nbformat_minor": 0,
  "metadata": {
    "colab": {
      "provenance": []
    },
    "kernelspec": {
      "name": "python3",
      "display_name": "Python 3"
    },
    "language_info": {
      "name": "python"
    }
  },
  "cells": [
    {
      "cell_type": "code",
      "source": [
        "rent=1220\n",
        "gas=202.6\n",
        "gro=305.6\n",
        "print(rent)\n",
        "total=rent+gas+gro\n",
        "print(total)\n",
        "\n",
        "rent=1400\n",
        "item1=\"rent\"\n",
        "item2=\"gas\"\n",
        "item3=\"gro\"\n",
        "print(\"expense items:\",item1,item2,item3)\n",
        "\n"
      ],
      "metadata": {
        "colab": {
          "base_uri": "https://localhost:8080/"
        },
        "id": "LMdxfT1dcBxW",
        "outputId": "a055e7e2-f0c5-4ee6-f411-7cc3416a911e"
      },
      "execution_count": null,
      "outputs": [
        {
          "output_type": "stream",
          "name": "stdout",
          "text": [
            "1220\n",
            "1728.1999999999998\n",
            "expense items: rent gas gro\n"
          ]
        }
      ]
    },
    {
      "cell_type": "code",
      "source": [
        "text=\"ice-cream\"\n",
        "print(text)\n",
        "print(text[0])\n",
        "print(text[1])\n",
        "print(text[2])\n",
        "print(text[3])\n",
        "print(text[4])\n",
        "print(text[5])\n",
        "print(text[6])\n",
        "print(text[7])\n",
        "print(text[8])"
      ],
      "metadata": {
        "colab": {
          "base_uri": "https://localhost:8080/"
        },
        "id": "Jcplx3MHa1yN",
        "outputId": "3eea5976-7ed0-45d4-aced-d41aaceeb64a"
      },
      "execution_count": null,
      "outputs": [
        {
          "output_type": "stream",
          "name": "stdout",
          "text": [
            "ice-cream\n",
            "i\n",
            "c\n",
            "e\n",
            "-\n",
            "c\n",
            "r\n",
            "e\n",
            "a\n",
            "m\n"
          ]
        }
      ]
    },
    {
      "cell_type": "code",
      "source": [
        "# python dont know how to add integer and String\n",
        "s1=\"hello\"\n",
        "s2=\"world\"\n",
        "print(s1+s2)\n",
        "print(s1+\" \"+s2)"
      ],
      "metadata": {
        "colab": {
          "base_uri": "https://localhost:8080/"
        },
        "id": "2WOOzumEcXFz",
        "outputId": "ac053e47-c633-4f8e-fae2-6a88c6fbb8cc"
      },
      "execution_count": null,
      "outputs": [
        {
          "output_type": "stream",
          "name": "stdout",
          "text": [
            "helloworld\n",
            "hello world\n"
          ]
        }
      ]
    }
  ]
}